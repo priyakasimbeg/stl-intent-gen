{
 "cells": [
  {
   "cell_type": "code",
   "execution_count": 111,
   "metadata": {},
   "outputs": [],
   "source": [
    "import numpy as np\n",
    "import matplotlib.pyplot as plt\n",
    "import os\n",
    "\n",
    "size = 50\n",
    "end = 5\n",
    "dt = 0.1\n"
   ]
  },
  {
   "cell_type": "code",
   "execution_count": 112,
   "metadata": {},
   "outputs": [],
   "source": [
    "t_steps = np.arange(0, end, 0.1)\n",
    "t_steps\n",
    "max_steps = len(t_steps)"
   ]
  },
  {
   "cell_type": "code",
   "execution_count": 113,
   "metadata": {},
   "outputs": [
    {
     "name": "stdout",
     "output_type": "stream",
     "text": [
      "50\n"
     ]
    }
   ],
   "source": [
    "print(max_steps)"
   ]
  },
  {
   "cell_type": "code",
   "execution_count": 21,
   "metadata": {},
   "outputs": [],
   "source": [
    "center = [0, 0]\n",
    "r = 1.0\n",
    "y_int = 0.0\n",
    "\n",
    "path = []\n",
    "\n",
    "for t in t_steps:\n",
    "    x = r * np.cos(2*np.pi/end * t)\n",
    "    y = r * np.sin(2*np.pi/end * t)\n",
    "    path.append(np.array([x,y]))\n",
    "\n",
    "path = np.array(path)\n",
    "    "
   ]
  },
  {
   "cell_type": "code",
   "execution_count": 25,
   "metadata": {},
   "outputs": [
    {
     "data": {
      "image/png": "[encoded data removed]",
      "text/plain": [
       "<Figure size 432x288 with 1 Axes>"
      ]
     },
     "metadata": {
      "needs_background": "light"
     },
     "output_type": "display_data"
    }
   ],
   "source": [
    "plt.figure()\n",
    "plt.plot(path[:, 0], path[:, 1], 'o')\n",
    "plt.axis('equal')\n",
    "plt.show()"
   ]
  },
  {
   "cell_type": "code",
   "execution_count": 114,
   "metadata": {},
   "outputs": [
    {
     "name": "stderr",
     "output_type": "stream",
     "text": [
      "/Users/priyakasimbeg/anaconda3/envs/asl/lib/python3.6/site-packages/ipykernel_launcher.py:7: RuntimeWarning: divide by zero encountered in true_divide\n",
      "  import sys\n"
     ]
    }
   ],
   "source": [
    "# Geometry\n",
    "y_int = 0\n",
    "direction = 'left'\n",
    "\n",
    "# initial velocity\n",
    "v = np.array([0.0, 0.8])\n",
    "T = 2 * np.pi * r / v\n",
    "pos = np.array([0, -1])\n",
    "\n",
    "\n",
    "# Diretion settings\n",
    "if direction == 'right':\n",
    "    v_end = np.array([1.0, 0.])\n",
    "    a_v = - np.linalg.norm(v) / r # sign\n",
    "    phi_0 = np.pi \n",
    "    r = 1.0\n",
    "\n",
    "if direction == 'left':\n",
    "    v_end = np.array([-1.0, 0.])\n",
    "    a_v = np.linalg.norm(v) / r # sign\n",
    "    phi_0 = 0\n",
    "    r = 1.5\n",
    "\n",
    "# Add random-ness to direction\n",
    "r = r + np.random.random() * 0.2\n",
    "v = v + np.random.random() * 0.2\n",
    "\n",
    "num_steps = 0\n",
    "\n",
    "path = [pos]\n",
    "\n",
    "while pos[1] < y_int:\n",
    "    pos = pos + dt * v\n",
    "    path.append(pos)\n",
    "    num_steps += 1\n",
    "    \n",
    "if direction == 'right' or direction == 'left':\n",
    "    t = 0\n",
    "    while abs(v[1] - v_end[1]) > 0.1:\n",
    "    # for i in range(50):\n",
    "        vx = -a_v * r * np.sin(phi_0 + a_v * t)\n",
    "        vy = a_v * r * np.cos(phi_0 + a_v * t)\n",
    "        v = np.array([vx, vy])\n",
    "        pos = pos + v * dt\n",
    "\n",
    "        t = t + dt\n",
    "        path.append(pos)\n",
    "        num_steps += 1\n",
    "    \n",
    "while num_steps < max_steps:\n",
    "    pos = pos + v * dt\n",
    "    path.append(pos)\n",
    "    num_steps += 1\n",
    "    \n",
    "path = np.array(path)"
   ]
  },
  {
   "cell_type": "code",
   "execution_count": 115,
   "metadata": {},
   "outputs": [
    {
     "data": {
      "image/png": "[encoded data removed]",
      "text/plain": [
       "<Figure size 432x288 with 1 Axes>"
      ]
     },
     "metadata": {
      "needs_background": "light"
     },
     "output_type": "display_data"
    }
   ],
   "source": [
    "plt.figure()\n",
    "plt.plot(path[:, 0], path[:, 1], 'o')\n",
    "plt.axis('equal')\n",
    "plt.show()"
   ]
  },
  {
   "cell_type": "code",
   "execution_count": null,
   "metadata": {},
   "outputs": [],
   "source": []
  },
  {
   "cell_type": "code",
   "execution_count": null,
   "metadata": {},
   "outputs": [],
   "source": []
  }
 ],
 "metadata": {
  "kernelspec": {
   "display_name": "Python 3",
   "language": "python",
   "name": "python3"
  },
  "language_info": {
   "codemirror_mode": {
    "name": "ipython",
    "version": 3
   },
   "file_extension": ".py",
   "mimetype": "text/x-python",
   "name": "python",
   "nbconvert_exporter": "python",
   "pygments_lexer": "ipython3",
   "version": "3.6.10"
  }
 },
 "nbformat": 4,
 "nbformat_minor": 4
}
